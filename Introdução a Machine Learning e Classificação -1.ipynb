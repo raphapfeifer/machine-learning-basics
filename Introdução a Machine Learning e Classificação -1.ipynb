{
 "cells": [
  {
   "cell_type": "code",
   "execution_count": 55,
   "id": "320a8456",
   "metadata": {},
   "outputs": [],
   "source": [
    "# features(1 sim, 0 não)\n",
    "# longo?\n",
    "# perna curta\n",
    "# faz auau?\n",
    "porco1 = [0,1,0]\n",
    "porco2 = [0,1,1]\n",
    "porco3 = [1,1,0]\n",
    "\n",
    "cachorro1 = [0,1,1]\n",
    "cachorro2 = [1,0,1]\n",
    "cachorro3 = [1,1,1]\n",
    "\n",
    "# 1 => porco, 0 => cachorro\n",
    "treino_x = [porco1,porco2,porco3,cachorro1,cachorro2,cachorro3]\n",
    "treino_y = [1,1,1,0,0,0]\n"
   ]
  },
  {
   "cell_type": "markdown",
   "id": "a806c147",
   "metadata": {},
   "source": [
    "f(x) = y\n",
    "\n",
    "## esse modelo é a mesma coisa com o nome das variáveis acima de\n",
    "\n",
    "f(treino_x) = treino_y"
   ]
  },
  {
   "cell_type": "code",
   "execution_count": 56,
   "id": "417444e9",
   "metadata": {
    "scrolled": true
   },
   "outputs": [
    {
     "data": {
      "text/plain": [
       "LinearSVC()"
      ]
     },
     "execution_count": 56,
     "metadata": {},
     "output_type": "execute_result"
    }
   ],
   "source": [
    "#from sklearn.svm import LinearSVC\n",
    "\n",
    "model = LinearSVC()\n",
    "model.fit(treino_x,treino_y)\n"
   ]
  },
  {
   "cell_type": "code",
   "execution_count": 57,
   "id": "1577510c",
   "metadata": {},
   "outputs": [
    {
     "data": {
      "text/plain": [
       "array([0])"
      ]
     },
     "execution_count": 57,
     "metadata": {},
     "output_type": "execute_result"
    }
   ],
   "source": [
    "animal_misterioso = [1,1,1]\n",
    "model.predict([animal_misterioso])"
   ]
  },
  {
   "cell_type": "code",
   "execution_count": 58,
   "id": "4c2cc2e8",
   "metadata": {},
   "outputs": [],
   "source": [
    "misterio1 = [1,1,1]\n",
    "misterio2 = [1,1,0]\n",
    "misterio3 = [0,1,1]\n",
    "\n",
    "teste_x = [misterio1,misterio2,misterio3]\n",
    "teste_y = [0,1,1]"
   ]
  },
  {
   "cell_type": "code",
   "execution_count": 59,
   "id": "f5e4eb05",
   "metadata": {},
   "outputs": [],
   "source": [
    "previsoes = model.predict(teste_x)"
   ]
  },
  {
   "cell_type": "code",
   "execution_count": 60,
   "id": "38a0f702",
   "metadata": {},
   "outputs": [
    {
     "data": {
      "text/plain": [
       "array([ True,  True, False])"
      ]
     },
     "execution_count": 60,
     "metadata": {},
     "output_type": "execute_result"
    }
   ],
   "source": [
    "previsoes == teste_y"
   ]
  },
  {
   "cell_type": "code",
   "execution_count": 61,
   "id": "dce910da",
   "metadata": {},
   "outputs": [
    {
     "data": {
      "text/plain": [
       "array([0, 1, 0])"
      ]
     },
     "execution_count": 61,
     "metadata": {},
     "output_type": "execute_result"
    }
   ],
   "source": [
    "previsoes"
   ]
  },
  {
   "cell_type": "code",
   "execution_count": 62,
   "id": "a6b810cc",
   "metadata": {},
   "outputs": [
    {
     "data": {
      "text/plain": [
       "[0, 1, 1]"
      ]
     },
     "execution_count": 62,
     "metadata": {},
     "output_type": "execute_result"
    }
   ],
   "source": [
    "teste_y"
   ]
  },
  {
   "cell_type": "code",
   "execution_count": 80,
   "id": "b473f6ed",
   "metadata": {},
   "outputs": [
    {
     "name": "stdout",
     "output_type": "stream",
     "text": [
      "Taxa de acerto: 66.67\n"
     ]
    }
   ],
   "source": [
    "#numero de verdadeiros(acertos)\n",
    "corretos = (previsoes == teste_y).sum()\n",
    "#tamnho de testes\n",
    "total = len(teste_x)\n",
    "taxa_de_acerto = corretos/total\n",
    "print('Taxa de acerto: %.2f' %  (taxa_de_acerto * 100))"
   ]
  },
  {
   "cell_type": "code",
   "execution_count": 78,
   "id": "ebc00a98",
   "metadata": {},
   "outputs": [
    {
     "name": "stdout",
     "output_type": "stream",
     "text": [
      "Taxa de acerto: 66.66666666666666 %\n"
     ]
    }
   ],
   "source": [
    "#taxa de acerto pela api sklearn\n",
    "from sklearn.metrics import accuracy_score\n",
    "\n",
    "taxa_de_acerto = accuracy_score(teste_y, previsoes)\n",
    "print('Taxa de acerto: {} %'.format(taxa_de_acerto * 100))"
   ]
  },
  {
   "cell_type": "code",
   "execution_count": null,
   "id": "211c37bd",
   "metadata": {},
   "outputs": [],
   "source": []
  }
 ],
 "metadata": {
  "kernelspec": {
   "display_name": "Python 3 (ipykernel)",
   "language": "python",
   "name": "python3"
  },
  "language_info": {
   "codemirror_mode": {
    "name": "ipython",
    "version": 3
   },
   "file_extension": ".py",
   "mimetype": "text/x-python",
   "name": "python",
   "nbconvert_exporter": "python",
   "pygments_lexer": "ipython3",
   "version": "3.9.7"
  }
 },
 "nbformat": 4,
 "nbformat_minor": 5
}
